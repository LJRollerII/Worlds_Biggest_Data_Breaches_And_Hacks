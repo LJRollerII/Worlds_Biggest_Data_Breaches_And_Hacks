{
 "cells": [
  {
   "cell_type": "code",
   "execution_count": null,
   "metadata": {
    "id": "KGC43KnBqEG9"
   },
   "outputs": [],
   "source": [
    "import pandas as pd\n",
    "import numpy as np\n",
    "import matplotlib.pyplot as plt\n",
    "import seaborn as sns\n",
    "%matplotlib inline\n",
    "import warnings\n",
    "import plotly.express as px\n",
    "import plotly.graph_objects as go\n",
    "from plotly.subplots import make_subplots\n",
    "from wordcloud import WordCloud, STOPWORDS, ImageColorGenerator\n",
    "from IPython.core.interactiveshell import InteractiveShell\n",
    "InteractiveShell.ast_node_interactivity = \"all\""
   ]
  },
  {
   "cell_type": "code",
   "execution_count": null,
   "metadata": {
    "colab": {
     "base_uri": "https://localhost:8080/",
     "height": 687
    },
    "id": "PCLmHkU6qy_z",
    "outputId": "21063c93-0752-41b3-9401-b329497b5c2b"
   },
   "outputs": [],
   "source": [
    "data_breaches = pd.read_csv('../data/data_breaches.csv')\n",
    "data_breaches.head()"
   ]
  },
  {
   "cell_type": "code",
   "execution_count": null,
   "metadata": {
    "colab": {
     "base_uri": "https://localhost:8080/"
    },
    "id": "ygLIAbI7rTfR",
    "outputId": "0853f493-c9e3-4faf-a1e4-59467b5544b5"
   },
   "outputs": [],
   "source": [
    "data_breaches.info()"
   ]
  },
  {
   "cell_type": "code",
   "execution_count": null,
   "metadata": {
    "colab": {
     "base_uri": "https://localhost:8080/"
    },
    "id": "XAEJD7YZrfLn",
    "outputId": "f0e6520e-df8f-4e71-fd31-f1a4b2481a04"
   },
   "outputs": [],
   "source": [
    "data_breaches.isnull().sum()"
   ]
  },
  {
   "cell_type": "code",
   "execution_count": null,
   "metadata": {
    "colab": {
     "base_uri": "https://localhost:8080/",
     "height": 206
    },
    "id": "qJ_h3NN6ferV",
    "outputId": "0fbdb5bf-714e-464c-80dd-4c336335910d"
   },
   "outputs": [],
   "source": [
    "data_breaches.corr(numeric_only=True)"
   ]
  },
  {
   "cell_type": "code",
   "execution_count": null,
   "metadata": {
    "colab": {
     "base_uri": "https://localhost:8080/",
     "height": 545
    },
    "id": "AUdzfU-WffHC",
    "outputId": "bcae7c87-adf2-4608-a0ed-a6c8fbfab024"
   },
   "outputs": [],
   "source": [
    "sns.heatmap(data_breaches.corr(numeric_only=True), annot=True, cmap=\"coolwarm\")\n"
   ]
  },
  {
   "cell_type": "code",
   "execution_count": null,
   "metadata": {
    "colab": {
     "base_uri": "https://localhost:8080/",
     "height": 686
    },
    "id": "H6_46OVOgCJ6",
    "outputId": "9cd4239d-d942-45cf-d6fe-2187794e30fe"
   },
   "outputs": [],
   "source": [
    "data_breaches.plot(kind = 'scatter', x = 'data sensitivity', y = 'records_lost', figsize = (12,8))\n",
    "plt.title('Data Sensitivity vs. Records Lost');"
   ]
  },
  {
   "cell_type": "markdown",
   "metadata": {
    "id": "sUyg29h5Vfr1"
   },
   "source": [
    "# Let's Explore The Records Lost Data"
   ]
  },
  {
   "cell_type": "code",
   "execution_count": null,
   "metadata": {
    "colab": {
     "base_uri": "https://localhost:8080/"
    },
    "id": "r6v3PTgGrf7v",
    "outputId": "b99abd84-efcf-42f7-bafa-53fa2ce379a3"
   },
   "outputs": [],
   "source": [
    "data_breaches['records_lost'].sum()"
   ]
  },
  {
   "cell_type": "code",
   "execution_count": null,
   "metadata": {
    "colab": {
     "base_uri": "https://localhost:8080/"
    },
    "id": "ZEYBAVivVmHQ",
    "outputId": "fde98e37-50c0-49af-c94f-116ffa7f9620"
   },
   "outputs": [],
   "source": [
    "data_breaches['records_lost'].mean()"
   ]
  },
  {
   "cell_type": "code",
   "execution_count": null,
   "metadata": {
    "colab": {
     "base_uri": "https://localhost:8080/"
    },
    "id": "dhnhzIEEVmbB",
    "outputId": "207fcea8-b6be-4df4-a081-5b6a06987902"
   },
   "outputs": [],
   "source": [
    "data_breaches['records_lost'].median()"
   ]
  },
  {
   "cell_type": "code",
   "execution_count": null,
   "metadata": {
    "colab": {
     "base_uri": "https://localhost:8080/"
    },
    "id": "aifbz0JDVmqX",
    "outputId": "ca974a2c-094c-4e01-8792-9ff1903e7829"
   },
   "outputs": [],
   "source": [
    "data_breaches['records_lost'].max()"
   ]
  },
  {
   "cell_type": "code",
   "execution_count": null,
   "metadata": {
    "colab": {
     "base_uri": "https://localhost:8080/",
     "height": 284
    },
    "id": "flIhYxY7Vm4n",
    "outputId": "b02ff813-291a-4424-b0c7-a7a9d8f2d4b0"
   },
   "outputs": [],
   "source": [
    "data_breaches.nlargest(1,'records_lost')"
   ]
  },
  {
   "cell_type": "code",
   "execution_count": null,
   "metadata": {
    "colab": {
     "base_uri": "https://localhost:8080/"
    },
    "id": "wcQZxY92Wabt",
    "outputId": "dc1dc600-6349-4c56-8222-1abe1d2f332e"
   },
   "outputs": [],
   "source": [
    "data_breaches['records_lost'].min()"
   ]
  },
  {
   "cell_type": "code",
   "execution_count": null,
   "metadata": {
    "colab": {
     "base_uri": "https://localhost:8080/",
     "height": 249
    },
    "id": "0xynJ2qWWamF",
    "outputId": "bea16a84-b238-4084-8de6-6128737fbd7e"
   },
   "outputs": [],
   "source": [
    "data_breaches.nsmallest(1,'records_lost')"
   ]
  },
  {
   "cell_type": "code",
   "execution_count": null,
   "metadata": {
    "colab": {
     "base_uri": "https://localhost:8080/"
    },
    "id": "ROKttfE8Wa0V",
    "outputId": "415ce6fa-e0de-4c73-a3c7-5a745404432a"
   },
   "outputs": [],
   "source": [
    "data_breaches['records_lost'].max()- data_breaches['records_lost'].min()"
   ]
  },
  {
   "cell_type": "markdown",
   "metadata": {
    "id": "COXtiwvYYuPT"
   },
   "source": [
    "Variance and Standard Devivation (Records Lost)"
   ]
  },
  {
   "cell_type": "code",
   "execution_count": null,
   "metadata": {
    "colab": {
     "base_uri": "https://localhost:8080/",
     "height": 687
    },
    "id": "iGu_2LsWXfxr",
    "outputId": "effa1263-d59c-46e0-da39-530d734417da"
   },
   "outputs": [],
   "source": [
    "data_breaches['rl_deviation'] = data_breaches.records_lost - data_breaches.records_lost.mean()\n",
    "data_breaches.head()"
   ]
  },
  {
   "cell_type": "code",
   "execution_count": null,
   "metadata": {
    "colab": {
     "base_uri": "https://localhost:8080/"
    },
    "id": "rcc17Xc6Xf8c",
    "outputId": "edb0e6e1-14d5-46a0-ec63-9439db401b22"
   },
   "outputs": [],
   "source": [
    "data_breaches.records_lost.std()"
   ]
  },
  {
   "cell_type": "code",
   "execution_count": null,
   "metadata": {
    "colab": {
     "base_uri": "https://localhost:8080/"
    },
    "id": "Z700d4zVXgB1",
    "outputId": "da65cf31-9293-410a-d61f-92ec62ca0320"
   },
   "outputs": [],
   "source": [
    "data_breaches['rl_deviation'].mean()"
   ]
  },
  {
   "cell_type": "code",
   "execution_count": null,
   "metadata": {
    "colab": {
     "base_uri": "https://localhost:8080/",
     "height": 1000
    },
    "id": "iZz9kZF_XgHD",
    "outputId": "66735173-d1a8-4382-e82e-0daf7338b11e"
   },
   "outputs": [],
   "source": [
    "data_breaches['squared_rl_deviation'] = data_breaches['rl_deviation']**2\n",
    "data_breaches"
   ]
  },
  {
   "cell_type": "markdown",
   "metadata": {
    "id": "KQGShS5aY3aN"
   },
   "source": [
    "Population Standard Deviation (Records Lost)"
   ]
  },
  {
   "cell_type": "code",
   "execution_count": null,
   "metadata": {
    "colab": {
     "base_uri": "https://localhost:8080/"
    },
    "id": "-6irUxGwY3zl",
    "outputId": "52e3ae41-d58e-40ab-ae5b-797406e7c2d5"
   },
   "outputs": [],
   "source": [
    "np.sqrt(data_breaches['squared_rl_deviation'].mean())"
   ]
  },
  {
   "cell_type": "code",
   "execution_count": null,
   "metadata": {},
   "outputs": [],
   "source": [
    "data_breaches.records_lost.var(ddof = 0)"
   ]
  },
  {
   "cell_type": "code",
   "execution_count": null,
   "metadata": {},
   "outputs": [],
   "source": [
    "data_breaches.records_lost.std(ddof = 0)"
   ]
  },
  {
   "cell_type": "markdown",
   "metadata": {
    "id": "HF9vLg0BZfqm"
   },
   "source": [
    "z-scores (Records Lost)"
   ]
  },
  {
   "cell_type": "code",
   "execution_count": null,
   "metadata": {
    "id": "mZVKTyxYY4Ch"
   },
   "outputs": [],
   "source": [
    "data_breaches['rl_z-score'] = (data_breaches.records_lost - data_breaches.records_lost.mean()) / data_breaches.records_lost.std(ddof = 0)\n"
   ]
  },
  {
   "cell_type": "code",
   "execution_count": null,
   "metadata": {
    "colab": {
     "base_uri": "https://localhost:8080/"
    },
    "id": "lNcBI7N7Y4KW",
    "outputId": "3f81ce9a-5b60-4981-977b-bc7d527b1642"
   },
   "outputs": [],
   "source": [
    "data_breaches['rl_z-score'].std()\n"
   ]
  },
  {
   "cell_type": "markdown",
   "metadata": {
    "id": "QqGvvohbZsP4"
   },
   "source": [
    "Quartiles and Quantiles/Percentiles (Records Lost)"
   ]
  },
  {
   "cell_type": "code",
   "execution_count": null,
   "metadata": {
    "colab": {
     "base_uri": "https://localhost:8080/"
    },
    "id": "os1mcITnZsr2",
    "outputId": "e580af9f-9960-44a3-bf5d-4cea123a1de4"
   },
   "outputs": [],
   "source": [
    "data_breaches.records_lost.quantile(q = 0.25)"
   ]
  },
  {
   "cell_type": "code",
   "execution_count": null,
   "metadata": {
    "colab": {
     "base_uri": "https://localhost:8080/"
    },
    "id": "Mfu_-dKkZs4M",
    "outputId": "c24673be-a168-4b79-e844-549349e0c030"
   },
   "outputs": [],
   "source": [
    "data_breaches.records_lost.quantile(q = 0.5)"
   ]
  },
  {
   "cell_type": "code",
   "execution_count": null,
   "metadata": {
    "colab": {
     "base_uri": "https://localhost:8080/"
    },
    "id": "ULuAXwsvZtAL",
    "outputId": "c6679554-de22-4cf4-b864-b64fc2655307"
   },
   "outputs": [],
   "source": [
    "data_breaches.records_lost.quantile(q = 0.75)"
   ]
  },
  {
   "cell_type": "code",
   "execution_count": null,
   "metadata": {
    "colab": {
     "base_uri": "https://localhost:8080/"
    },
    "id": "LP0M9ME4bRcx",
    "outputId": "a8cd1df3-6059-42eb-fcbf-15a0b9f4d70f"
   },
   "outputs": [],
   "source": [
    "data_breaches.records_lost.describe()"
   ]
  },
  {
   "cell_type": "markdown",
   "metadata": {
    "id": "yBQTpeNFbMXC"
   },
   "source": [
    "Interquartile Range (Records Lost)"
   ]
  },
  {
   "cell_type": "code",
   "execution_count": null,
   "metadata": {
    "colab": {
     "base_uri": "https://localhost:8080/"
    },
    "id": "WTa5Nr-ObVjt",
    "outputId": "9dd13408-bb95-463c-f994-eafe1a3d64da"
   },
   "outputs": [],
   "source": [
    "data_breaches.records_lost.quantile(q = 0.75) - data_breaches.records_lost.quantile(q = 0.25)"
   ]
  },
  {
   "cell_type": "markdown",
   "metadata": {
    "id": "oAACuW-0bgPi"
   },
   "source": [
    "Visualization of Records Lost"
   ]
  },
  {
   "cell_type": "code",
   "execution_count": null,
   "metadata": {
    "colab": {
     "base_uri": "https://localhost:8080/",
     "height": 564
    },
    "id": "x3qS4Wcqbe8P",
    "outputId": "24d17d20-9b7e-45bf-b0b9-c4f5b6b4007b"
   },
   "outputs": [],
   "source": [
    "fig,ax = plt.subplots(figsize = (10,6))\n",
    "\n",
    "plt.hist(\n",
    "    data = data_breaches,\n",
    "    x = 'records_lost',\n",
    "    edgecolor = 'black',\n",
    "    linewidth = 2\n",
    ");\n",
    "plt.xlabel('Records Lost')\n",
    "plt.ylabel('Numbers of Companies')\n",
    "plt.title('Histogram of Records Lost Due To Data Breach');"
   ]
  },
  {
   "cell_type": "markdown",
   "metadata": {
    "id": "5H4H41Quh5PY"
   },
   "source": [
    "# Organizations That Lost The Most Records"
   ]
  },
  {
   "cell_type": "code",
   "execution_count": null,
   "metadata": {
    "id": "isAV8QIjXQZu"
   },
   "outputs": [],
   "source": [
    "data_breaches.groupby('organization')['records_lost']"
   ]
  },
  {
   "cell_type": "code",
   "execution_count": null,
   "metadata": {
    "id": "r0kFdROvYgnI"
   },
   "outputs": [],
   "source": [
    "fig = go.Figure(go.Funnel(\n",
    "    y = [\"Public\", \"Private\", \"Independent\", \"Preparatory\", \"Homeschool\",\"Reform\"],\n",
    "    x = [757, 669, 90, 76, 3, 1]))\n",
    "\n",
    "fig.show()"
   ]
  },
  {
   "cell_type": "code",
   "execution_count": null,
   "metadata": {
    "colab": {
     "base_uri": "https://localhost:8080/",
     "height": 390
    },
    "id": "8E6jiw1PiB8H",
    "outputId": "2997f4f8-a539-4cd0-d3f0-6ffb0db1e104"
   },
   "outputs": [],
   "source": [
    "'''\n",
    "data_breaches = px.data.gapminder()\n",
    "fig = px.line(data_breaches, x=\"organization\", y=\"records_lost\", title='Organization With The Most Records Lost')\n",
    "fig.show()"
   ]
  },
  {
   "cell_type": "markdown",
   "metadata": {
    "id": "YhIWD9t_tGxD"
   },
   "source": [
    "# Exploring Sector Data"
   ]
  },
  {
   "cell_type": "code",
   "execution_count": null,
   "metadata": {
    "colab": {
     "base_uri": "https://localhost:8080/",
     "height": 927
    },
    "id": "XPoVfX0CsZ9V",
    "outputId": "fdaaa13f-0ef9-469a-9170-9c01ca9c508b"
   },
   "outputs": [],
   "source": [
    "sector = pd.DataFrame(data_breaches.sector.value_counts().reset_index())\n",
    "sector"
   ]
  },
  {
   "cell_type": "code",
   "execution_count": null,
   "metadata": {
    "colab": {
     "base_uri": "https://localhost:8080/",
     "height": 143
    },
    "id": "kXkqBlDHteJK",
    "outputId": "4f228152-6be1-4e28-e43e-774c96a8360b"
   },
   "outputs": [],
   "source": [
    "sector.columns = ['Sector', 'Companies Hacked']\n",
    "sector.head(3)"
   ]
  },
  {
   "cell_type": "code",
   "execution_count": null,
   "metadata": {
    "id": "wfDnCTmcwTcR"
   },
   "outputs": [],
   "source": [
    "top10_sectors = sector[sector['Sector'].isin(['web', 'government','health','finance','retail','telcoms','app','tech','transport','gaming'])]"
   ]
  },
  {
   "cell_type": "code",
   "execution_count": null,
   "metadata": {
    "colab": {
     "base_uri": "https://localhost:8080/",
     "height": 332
    },
    "id": "cARt3g9RyLDh",
    "outputId": "854f108e-dc7e-4aa0-c6ed-29a6b0cdf593"
   },
   "outputs": [],
   "source": [
    "top10_sectors = top10_sectors.groupby(['Sector']).sum().sort_values(['Companies Hacked'],ascending=False)\n",
    "top10_sectors"
   ]
  },
  {
   "cell_type": "code",
   "execution_count": null,
   "metadata": {
    "colab": {
     "base_uri": "https://localhost:8080/",
     "height": 542
    },
    "id": "zmFEWnQUumRR",
    "outputId": "76b54624-234d-4229-9622-a923a91ae842"
   },
   "outputs": [],
   "source": [
    "px.bar(top10_sectors.iloc[:10,:1], text_auto=True,title='Top 10 Hacked Sectors')"
   ]
  },
  {
   "cell_type": "markdown",
   "metadata": {
    "id": "1uaCjdA4yq40"
   },
   "source": [
    "Total Records Lost By Sector"
   ]
  },
  {
   "cell_type": "code",
   "execution_count": null,
   "metadata": {
    "colab": {
     "base_uri": "https://localhost:8080/",
     "height": 542
    },
    "id": "vLS-oQquumjW",
    "outputId": "10d4d0b7-2429-4e0d-c627-77c6c0788450"
   },
   "outputs": [],
   "source": [
    "px.treemap(data_frame=data_breaches, path=['sector'], values='records_lost')"
   ]
  },
  {
   "cell_type": "markdown",
   "metadata": {
    "id": "KgyjGX99R5Y7"
   },
   "source": [
    "Types of data breaches by sector"
   ]
  },
  {
   "cell_type": "code",
   "execution_count": null,
   "metadata": {
    "id": "z7GowiTxR4Cc"
   },
   "outputs": [],
   "source": [
    "breach_type = pd.DataFrame(data_breaches[['sector','method']].value_counts().reset_index())\n"
   ]
  },
  {
   "cell_type": "code",
   "execution_count": null,
   "metadata": {
    "colab": {
     "base_uri": "https://localhost:8080/",
     "height": 143
    },
    "id": "a45LVvEZST28",
    "outputId": "717d1012-1f41-4de0-ead7-28186c3e8dc0"
   },
   "outputs": [],
   "source": [
    "breach_type.columns = ['Sector', 'Method','Breaches']\n",
    "breach_type.head(3)"
   ]
  },
  {
   "cell_type": "code",
   "execution_count": null,
   "metadata": {
    "colab": {
     "base_uri": "https://localhost:8080/",
     "height": 1000
    },
    "id": "FWLJJfzySleF",
    "outputId": "6ec43b14-4716-4770-829d-69196daabcd1"
   },
   "outputs": [],
   "source": [
    "nested_pie =  breach_type.sort_values('Breaches', ascending=False).iloc[:]\n",
    "\n",
    "fig = px.sunburst(nested_pie, path=['Sector','Method'], values='Breaches',\n",
    "                  color='Breaches',\n",
    "                  color_continuous_scale='rdbu',template=\"plotly_white\",\n",
    "                  )\n",
    "fig.update_layout(height=650, title = \"Data Breaches By Sector\" , title_x = 0.47,)\n",
    "fig.show()"
   ]
  },
  {
   "cell_type": "markdown",
   "metadata": {
    "id": "dS55ZUpOWW4n"
   },
   "source": [
    "# Exploring The Sources That Broke The Stories"
   ]
  },
  {
   "cell_type": "code",
   "execution_count": null,
   "metadata": {
    "colab": {
     "base_uri": "https://localhost:8080/",
     "height": 206
    },
    "id": "9FJS2bZUWXRt",
    "outputId": "5dc32810-2a3e-42bc-ff3a-0c50c1ebdef1"
   },
   "outputs": [],
   "source": [
    "source = pd.DataFrame(data_breaches['source name'].value_counts().reset_index())\n",
    "source.head()"
   ]
  },
  {
   "cell_type": "code",
   "execution_count": null,
   "metadata": {
    "colab": {
     "base_uri": "https://localhost:8080/",
     "height": 143
    },
    "id": "qNRHo4NpWXo6",
    "outputId": "c4b1cbe3-9047-42e4-b921-a1c1208c12e3"
   },
   "outputs": [],
   "source": [
    "source.columns = ['Source', 'Stories Broken']\n",
    "source.head(3)"
   ]
  },
  {
   "cell_type": "code",
   "execution_count": null,
   "metadata": {
    "id": "I_ij_Y7zWX48"
   },
   "outputs": [],
   "source": [
    "top10_sources = source[source['Source'].isin(['ZDNet', 'The Register','The Guardian','BBC News','Guardian','Bleeping Computer','Tech Crunch','Reuters','Tech Crunch','Data Breaches'])]"
   ]
  },
  {
   "cell_type": "code",
   "execution_count": null,
   "metadata": {
    "colab": {
     "base_uri": "https://localhost:8080/",
     "height": 363
    },
    "id": "9sdKgR9mZtpF",
    "outputId": "74f63c74-e13f-41bc-93a5-73c6167d3e89"
   },
   "outputs": [],
   "source": [
    "top10_sources = top10_sources.groupby(['Source']).sum().sort_values(['Stories Broken'],ascending=False)\n",
    "top10_sources"
   ]
  },
  {
   "cell_type": "code",
   "execution_count": null,
   "metadata": {
    "colab": {
     "base_uri": "https://localhost:8080/",
     "height": 542
    },
    "id": "9_TdbEKxXrvx",
    "outputId": "01541c96-ba6d-4a2e-9435-ec8e4ca041ad"
   },
   "outputs": [],
   "source": [
    "px.bar(top10_sources.iloc[:10,:1], text_auto=True,title='Top 10 Sources For Data Breach Stories')"
   ]
  },
  {
   "cell_type": "code",
   "execution_count": null,
   "metadata": {
    "colab": {
     "base_uri": "https://localhost:8080/",
     "height": 390
    },
    "id": "JIKj6f6SXr8C",
    "outputId": "c7ec1244-205c-403a-b03d-a5b964ea9e38"
   },
   "outputs": [],
   "source": [
    "data_breaches = px.data.gapminder()\n",
    "fig = px.area(data_breaches, x=\"year\", y=\"records_lost\", color=\"method\", line_group=\"sector\")\n",
    "fig.show()"
   ]
  },
  {
   "cell_type": "markdown",
   "metadata": {},
   "source": [
    "# Exploring Data Sensitivity"
   ]
  },
  {
   "cell_type": "markdown",
   "metadata": {
    "id": "-8mQuZ5KZ84Y"
   },
   "source": [
    "Data Sensitivity By Sector"
   ]
  },
  {
   "cell_type": "code",
   "execution_count": null,
   "metadata": {
    "id": "YTcPZi9eZEva"
   },
   "outputs": [],
   "source": [
    "pd.crosstab(data_breaches['data sensitivity'],\n",
    "            data_breaches100['sector'],\n",
    "            normalize='index').plot(kind = 'bar',\n",
    "                                    edgecolor = 'black',\n",
    "                                    width = 0.75,\n",
    "                                    stacked = True)\n",
    "plt.ylabel('Proportion');"
   ]
  },
  {
   "cell_type": "markdown",
   "metadata": {
    "id": "sPT5pQ1-aIw9"
   },
   "source": [
    "Data Sensitivity By Method"
   ]
  },
  {
   "cell_type": "code",
   "execution_count": null,
   "metadata": {
    "id": "4TMw9X0aZx8-"
   },
   "outputs": [],
   "source": [
    "pd.crosstab(data_breaches['data sensitivity'],\n",
    "            data_breaches100['sector'],\n",
    "            normalize='index').plot(kind = 'bar',\n",
    "                                    edgecolor = 'black',\n",
    "                                    width = 0.75,\n",
    "                                    stacked = True)\n",
    "plt.ylabel('Proportion');"
   ]
  },
  {
   "cell_type": "markdown",
   "metadata": {},
   "source": [
    "# Data Breaches By Date"
   ]
  },
  {
   "cell_type": "markdown",
   "metadata": {
    "id": "duPga4GjmrTu"
   },
   "source": [
    "What Moth Had The Most Data Breaches?"
   ]
  },
  {
   "cell_type": "code",
   "execution_count": null,
   "metadata": {
    "colab": {
     "base_uri": "https://localhost:8080/",
     "height": 390
    },
    "id": "Fm2IkyU8kKeE",
    "outputId": "ac26b4bf-b1b7-4f2d-f621-3bbc0041f863"
   },
   "outputs": [],
   "source": [
    "# Convert the Date column to datetime\n",
    "data_breaches['date'] = pd.to_datetime(data_breaches['date'], errors='coerce')\n",
    "\n",
    "# Extract the month from the Date\n",
    "data_breaches['month'] = data_breaches['date'].dt.month\n",
    "\n",
    "# Group by Month and calculate the count of breaches\n",
    "breach_month = data_breaches.groupby('month').agg({'organization':'count'}).reset_index()\n",
    "\n",
    "# Sort by the month\n",
    "breach_month = breach_month.sort_values('month')\n",
    "\n",
    "# Plot\n",
    "plt.figure(figsize=(10,6))\n",
    "plt.bar(breach_month['month'], breach_month['organization'], color='lightblue')\n",
    "plt.xlabel('month')\n",
    "plt.ylabel('Number of Data Breaches')\n",
    "plt.title('Number of Data Breaches by month')\n",
    "plt.xticks(ticks=range(1,13), labels=['Jan', 'Feb', 'Mar', 'Apr', 'May', 'Jun', 'Jul', 'Aug', 'Sep', 'Oct', 'Nov', 'Dec'])\n",
    "plt.show()"
   ]
  },
  {
   "cell_type": "markdown",
   "metadata": {
    "id": "moG5KkNnmPtM"
   },
   "source": [
    "What Day of the Week Had the Most Breaches?"
   ]
  },
  {
   "cell_type": "code",
   "execution_count": null,
   "metadata": {
    "id": "GTCxUp-flqp5"
   },
   "outputs": [],
   "source": [
    "# Extract the day of the week from the Date (0 = Monday, 6 = Sunday)\n",
    "data_breaches['Day of Week'] = data_breaches['date'].dt.dayofweek\n",
    "\n",
    "# Group by Day of Week and calculate the count of breaches\n",
    "data_day_of_week = data_breaches.groupby('Day of Week').agg({'organization':'count'}).reset_index()\n",
    "\n",
    "# Sort by the day of the week\n",
    "data_day_of_week = data_day_of_week.sort_values('Day of Week')\n",
    "\n",
    "# Plot\n",
    "plt.figure(figsize=(10,6))\n",
    "plt.bar(data_day_of_week['Day of Week'], data_day_of_week['organization'], color='lightgreen')\n",
    "plt.xlabel('Day of the Week')\n",
    "plt.ylabel('Number of Data Breaches')\n",
    "plt.title('Number of Data Breaches by Day of the Week')\n",
    "plt.xticks(ticks=range(0,7), labels=['Mon', 'Tue', 'Wed', 'Thu', 'Fri', 'Sat', 'Sun'])\n",
    "plt.show()"
   ]
  },
  {
   "cell_type": "markdown",
   "metadata": {
    "id": "Y4zLmLHpherE"
   },
   "source": [
    "# Top 3 Companies With The Most Records Lost By Year"
   ]
  },
  {
   "cell_type": "code",
   "execution_count": null,
   "metadata": {
    "id": "HkbbBlOtdQfz"
   },
   "outputs": [],
   "source": [
    "breaches = data_breaches.copy()\n",
    "\n",
    "breaches['year']=data_breaches['date'].str.split('-').str[0]\n",
    "breaches['month']=data_breaches['date'].str.split('-').str[1]\n",
    "breaches['day']=data_breaches['date'].str.split('-').str[2]\n",
    "\n",
    "breaches['year']=breaches['year'].astype(int)\n",
    "breaches['month']=breaches['month'].astype(int)\n",
    "breaches['day']=breaches['day'].astype(int)\n"
   ]
  },
  {
   "cell_type": "code",
   "execution_count": null,
   "metadata": {
    "id": "YnYfHl8jdQ0n"
   },
   "outputs": [],
   "source": [
    "breaches.head(3)"
   ]
  },
  {
   "cell_type": "code",
   "execution_count": null,
   "metadata": {
    "id": "2IyDIjQedRFd"
   },
   "outputs": [],
   "source": [
    "'''\n",
    "xlwriter = pd.ExcelWriter('data_breaches.xlsx')\n",
    "breaches.to_excel(xlwriter, sheet_name='layoffs')\n",
    "xlwriter.close()"
   ]
  },
  {
   "cell_type": "code",
   "execution_count": null,
   "metadata": {
    "id": "2O0CgTMYdRQF"
   },
   "outputs": [],
   "source": [
    "breaches.groupby([\"year\"],sort=False)[\"records_lost\"].max()"
   ]
  },
  {
   "cell_type": "code",
   "execution_count": null,
   "metadata": {
    "id": "XmQarYGKdRgc"
   },
   "outputs": [],
   "source": [
    "g = sns.catplot(x='year', y='records_lost', data=breaches)\n",
    "g.fig.set_figwidth(10)\n",
    "g.fig.set_figheight(6)"
   ]
  },
  {
   "cell_type": "code",
   "execution_count": null,
   "metadata": {
    "id": "yQkzHw4lfLAu"
   },
   "outputs": [],
   "source": [
    "top_3_year_wise = breaches.groupby(['year','organization']).records_lost.agg([max])\n",
    "top_3_year_wise"
   ]
  },
  {
   "cell_type": "code",
   "execution_count": null,
   "metadata": {
    "id": "_7tQoi12f1f1"
   },
   "outputs": [],
   "source": [
    "g = top_3_year_wise[\"max\"].groupby(['year'],group_keys=False)\n",
    "top_3_year_wise2 = g.apply(lambda x : x.sort_values(ascending=False).head(3))\n",
    "top_3_year_wise2"
   ]
  },
  {
   "cell_type": "code",
   "execution_count": null,
   "metadata": {
    "id": "3bEU55uYfLQx"
   },
   "outputs": [],
   "source": [
    "g.nlargest(3)\n"
   ]
  },
  {
   "cell_type": "code",
   "execution_count": null,
   "metadata": {
    "id": "g2R3pxkcfiCS"
   },
   "outputs": [],
   "source": [
    "top_3_year_wise2.index\n",
    "top_3_year_wise2.values"
   ]
  },
  {
   "cell_type": "code",
   "execution_count": null,
   "metadata": {
    "id": "-bD6oeFpfmhy"
   },
   "outputs": [],
   "source": [
    "top_3_year_wise3 = pd.DataFrame()\n",
    "top_3_year_wise3[\"records_lost\"] = top_3_year_wise2.values\n",
    "top_3_year_wise3"
   ]
  },
  {
   "cell_type": "code",
   "execution_count": null,
   "metadata": {
    "id": "qUBUnJHPfmqj"
   },
   "outputs": [],
   "source": [
    "top_3_year_wise3.columns = ['Records Lost']"
   ]
  },
  {
   "cell_type": "code",
   "execution_count": null,
   "metadata": {
    "id": "7JxD6WttfmwZ"
   },
   "outputs": [],
   "source": [
    "y = []\n",
    "c = []\n",
    "for i,j in top_3_year_wise2.index:\n",
    "    y.append(i)\n",
    "    c.append(j)\n",
    "top_3_year_wise3[\"Year\"] = y\n",
    "top_3_year_wise3[\"Organization\"] = c\n",
    "top_3_year_wise3"
   ]
  },
  {
   "cell_type": "code",
   "execution_count": null,
   "metadata": {
    "id": "8kBdfDnygOEl"
   },
   "outputs": [],
   "source": [
    "px.bar(top_3_year_wise3,x='Year',y='Records Lost',color='Organization', title='Top 3 Companies with the most Records Lost Year-wise',text_auto=True)\n"
   ]
  },
  {
   "cell_type": "markdown",
   "metadata": {
    "id": "eTmPbEGfcw_3"
   },
   "source": [
    "# Records Lost Per Year By Sector"
   ]
  },
  {
   "cell_type": "code",
   "execution_count": null,
   "metadata": {
    "id": "s6WF0X5ngOPU"
   },
   "outputs": [],
   "source": [
    "records_lost_year_sector_wise  = breaches.groupby([\"year\",\"sector\"]).records_lost.sum()\n",
    "records_lost_year_sector_wise.head()"
   ]
  },
  {
   "cell_type": "code",
   "execution_count": null,
   "metadata": {
    "id": "llSnFmCyiIn7"
   },
   "outputs": [],
   "source": [
    "len(breaches.sector.unique())"
   ]
  },
  {
   "cell_type": "code",
   "execution_count": null,
   "metadata": {
    "id": "qnMEJxQaiI0z"
   },
   "outputs": [],
   "source": [
    "records_lost_year_sector_wise_year = []\n",
    "records_lost_year_sector_wise_sector = []\n",
    "for i,j in records_lost_year_sector_wise.index:\n",
    "    records_lost_year_sector_wise_year.append(i)\n",
    "    records_lost_year_sector_wise_sector.append(j)"
   ]
  },
  {
   "cell_type": "code",
   "execution_count": null,
   "metadata": {
    "id": "J2jMjJSCiJCB"
   },
   "outputs": [],
   "source": [
    "records_lost_year_sector_wise2 = pd.DataFrame({\n",
    "    \"Year\": records_lost_year_sector_wise_year,\n",
    "    \"Sector\": records_lost_year_sector_wise_sector,\n",
    "    \"records_lost\": records_lost_year_sector_wise.values\n",
    "})"
   ]
  },
  {
   "cell_type": "code",
   "execution_count": null,
   "metadata": {
    "id": "W8VR_O_ziSsP"
   },
   "outputs": [],
   "source": [
    "records_lost_year_sector_wise2.head()"
   ]
  },
  {
   "cell_type": "code",
   "execution_count": null,
   "metadata": {
    "id": "9J10l9QmiS3f"
   },
   "outputs": [],
   "source": [
    "records_lost_year_sector_wise2.columns = ['Year', 'Sector', 'Records Lost']"
   ]
  },
  {
   "cell_type": "code",
   "execution_count": null,
   "metadata": {
    "id": "24g6IhSyiJOg"
   },
   "outputs": [],
   "source": [
    "records_lost_year_sector_wise2.sort_values([\"Year\",\"Records Lost\"],ascending=False,inplace=True)\n"
   ]
  },
  {
   "cell_type": "code",
   "execution_count": null,
   "metadata": {
    "id": "AcFgRK7jin1A"
   },
   "outputs": [],
   "source": [
    "px.bar(records_lost_year_sector_wise2,x='Year',y='Records Lost',color='Sector',text='Sector',\n",
    "      title='Records Lost By Sector Year-wise')"
   ]
  },
  {
   "cell_type": "markdown",
   "metadata": {
    "id": "jUPmPi-8c4_v"
   },
   "source": [
    "# Records Lost Per Year By Method"
   ]
  },
  {
   "cell_type": "code",
   "execution_count": null,
   "metadata": {
    "id": "I2KJVbu6dDPg"
   },
   "outputs": [],
   "source": [
    "records_lost_year_method_wise  = breaches.groupby([\"year\",\"method\"]).records_lost.sum()\n",
    "records_lost_year_method_wise.head()"
   ]
  },
  {
   "cell_type": "code",
   "execution_count": null,
   "metadata": {
    "id": "-rL7AkUNdDah"
   },
   "outputs": [],
   "source": [
    "len(breaches.method.unique())"
   ]
  },
  {
   "cell_type": "code",
   "execution_count": null,
   "metadata": {
    "id": "JcW_b5eTdDjg"
   },
   "outputs": [],
   "source": [
    "records_lost_year_method_wise_year = []\n",
    "records_lost_year_method_wise_method = []\n",
    "for i,j in records_lost_year_method_wise.index:\n",
    "    records_lost_year_method_wise_year.append(i)\n",
    "    records_lost_year_method_wise_method.append(j)"
   ]
  },
  {
   "cell_type": "code",
   "execution_count": null,
   "metadata": {
    "id": "Q4_GJZZHdDs1"
   },
   "outputs": [],
   "source": [
    "records_lost_year_method_wise2 = pd.DataFrame({\n",
    "    \"Year\": records_lost_year_method_wise_year,\n",
    "    \"Method\": records_lost_year_method_wise_method,\n",
    "    \"records_lost\": records_lost_year_method_wise.values\n",
    "})"
   ]
  },
  {
   "cell_type": "code",
   "execution_count": null,
   "metadata": {
    "id": "qBV5B9MudD2r"
   },
   "outputs": [],
   "source": [
    "records_lost_year_method_wise2.head()"
   ]
  },
  {
   "cell_type": "code",
   "execution_count": null,
   "metadata": {
    "id": "GlgDKwt5dD_6"
   },
   "outputs": [],
   "source": [
    "records_lost_year_method_wise2.columns = ['Year', 'Method', 'Records Lost']"
   ]
  },
  {
   "cell_type": "code",
   "execution_count": null,
   "metadata": {
    "id": "bXOKYsRMeWmN"
   },
   "outputs": [],
   "source": [
    "records_lost_year_method_wise2.sort_values([\"Year\",\"Records Lost\"],ascending=False,inplace=True)"
   ]
  },
  {
   "cell_type": "code",
   "execution_count": null,
   "metadata": {
    "id": "AWAEpxfoesRr"
   },
   "outputs": [],
   "source": [
    "px.bar(records_lost_year_method_wise2,x='Year',y='Records Lost',color='Method',text='Method',\n",
    "      title='Records Lost By Method Year-wise')"
   ]
  },
  {
   "cell_type": "markdown",
   "metadata": {
    "id": "jowu_ex2V0iE"
   },
   "source": [
    "# What Are The Most Common Words In The Data Breach Stories?"
   ]
  },
  {
   "cell_type": "code",
   "execution_count": null,
   "metadata": {
    "colab": {
     "base_uri": "https://localhost:8080/",
     "height": 302
    },
    "id": "yzTBrzehUMdW",
    "outputId": "0af95a2f-bbe3-4272-c3d0-37fbc90d4384"
   },
   "outputs": [],
   "source": [
    "text = data_breaches.story[:].dropna().to_list()\n",
    "text = \" \".join(text)\n",
    "\n",
    "wordcloud = WordCloud(max_font_size=50, max_words=100, background_color=\"white\", regexp = r'\\S+').generate(text)\n",
    "\n",
    "plt.imshow(wordcloud, interpolation='bilinear')\n",
    "plt.axis(\"off\")\n",
    "plt.show()"
   ]
  },
  {
   "cell_type": "markdown",
   "metadata": {},
   "source": [
    "# Turn Notebook Into A Violà  Dashboard"
   ]
  },
  {
   "cell_type": "code",
   "execution_count": null,
   "metadata": {},
   "outputs": [],
   "source": [
    "#!voila \"data_breaches.ipynb\""
   ]
  }
 ],
 "metadata": {
  "colab": {
   "provenance": []
  },
  "kernelspec": {
   "display_name": "Python 3 (ipykernel)",
   "language": "python",
   "name": "python3"
  },
  "language_info": {
   "codemirror_mode": {
    "name": "ipython",
    "version": 3
   },
   "file_extension": ".py",
   "mimetype": "text/x-python",
   "name": "python",
   "nbconvert_exporter": "python",
   "pygments_lexer": "ipython3",
   "version": "3.9.16"
  }
 },
 "nbformat": 4,
 "nbformat_minor": 1
}
